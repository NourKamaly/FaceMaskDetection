{
  "nbformat": 4,
  "nbformat_minor": 0,
  "metadata": {
    "colab": {
      "name": "Mask classification.ipynb",
      "provenance": [],
      "collapsed_sections": []
    },
    "kernelspec": {
      "display_name": "Python 3",
      "language": "python",
      "name": "python3"
    },
    "language_info": {
      "codemirror_mode": {
        "name": "ipython",
        "version": 3
      },
      "file_extension": ".py",
      "mimetype": "text/x-python",
      "name": "python",
      "nbconvert_exporter": "python",
      "pygments_lexer": "ipython3",
      "version": "3.8.5"
    },
    "accelerator": "GPU"
  },
  "cells": [
    {
      "cell_type": "code",
      "metadata": {
        "colab": {
          "base_uri": "https://localhost:8080/"
        },
        "id": "0vVMjmRY-LZ8",
        "outputId": "7728bcf3-dbc2-41ea-e59f-b1f1417b5e3e"
      },
      "source": [
        "\n",
        "!pip install --upgrade --force-reinstall --no-deps kaggle"
      ],
      "execution_count": null,
      "outputs": [
        {
          "output_type": "stream",
          "name": "stdout",
          "text": [
            "Collecting kaggle\n",
            "  Downloading kaggle-1.5.12.tar.gz (58 kB)\n",
            "\u001b[?25l\r\u001b[K     |█████▋                          | 10 kB 25.4 MB/s eta 0:00:01\r\u001b[K     |███████████▏                    | 20 kB 8.6 MB/s eta 0:00:01\r\u001b[K     |████████████████▊               | 30 kB 5.8 MB/s eta 0:00:01\r\u001b[K     |██████████████████████▎         | 40 kB 5.5 MB/s eta 0:00:01\r\u001b[K     |███████████████████████████▉    | 51 kB 4.4 MB/s eta 0:00:01\r\u001b[K     |████████████████████████████████| 58 kB 701 kB/s \n",
            "\u001b[?25hBuilding wheels for collected packages: kaggle\n",
            "  Building wheel for kaggle (setup.py) ... \u001b[?25l\u001b[?25hdone\n",
            "  Created wheel for kaggle: filename=kaggle-1.5.12-py3-none-any.whl size=73051 sha256=9484f449eda165b060f2a76d7902226cbf1403f3eed6617ceae1e994093b7748\n",
            "  Stored in directory: /root/.cache/pip/wheels/62/d6/58/5853130f941e75b2177d281eb7e44b4a98ed46dd155f556dc5\n",
            "Successfully built kaggle\n",
            "Installing collected packages: kaggle\n",
            "  Attempting uninstall: kaggle\n",
            "    Found existing installation: kaggle 1.5.12\n",
            "    Uninstalling kaggle-1.5.12:\n",
            "      Successfully uninstalled kaggle-1.5.12\n",
            "Successfully installed kaggle-1.5.12\n"
          ]
        }
      ]
    },
    {
      "cell_type": "code",
      "metadata": {
        "colab": {
          "resources": {
            "http://localhost:8080/nbextensions/google.colab/files.js": {
              "data": "Ly8gQ29weXJpZ2h0IDIwMTcgR29vZ2xlIExMQwovLwovLyBMaWNlbnNlZCB1bmRlciB0aGUgQXBhY2hlIExpY2Vuc2UsIFZlcnNpb24gMi4wICh0aGUgIkxpY2Vuc2UiKTsKLy8geW91IG1heSBub3QgdXNlIHRoaXMgZmlsZSBleGNlcHQgaW4gY29tcGxpYW5jZSB3aXRoIHRoZSBMaWNlbnNlLgovLyBZb3UgbWF5IG9idGFpbiBhIGNvcHkgb2YgdGhlIExpY2Vuc2UgYXQKLy8KLy8gICAgICBodHRwOi8vd3d3LmFwYWNoZS5vcmcvbGljZW5zZXMvTElDRU5TRS0yLjAKLy8KLy8gVW5sZXNzIHJlcXVpcmVkIGJ5IGFwcGxpY2FibGUgbGF3IG9yIGFncmVlZCB0byBpbiB3cml0aW5nLCBzb2Z0d2FyZQovLyBkaXN0cmlidXRlZCB1bmRlciB0aGUgTGljZW5zZSBpcyBkaXN0cmlidXRlZCBvbiBhbiAiQVMgSVMiIEJBU0lTLAovLyBXSVRIT1VUIFdBUlJBTlRJRVMgT1IgQ09ORElUSU9OUyBPRiBBTlkgS0lORCwgZWl0aGVyIGV4cHJlc3Mgb3IgaW1wbGllZC4KLy8gU2VlIHRoZSBMaWNlbnNlIGZvciB0aGUgc3BlY2lmaWMgbGFuZ3VhZ2UgZ292ZXJuaW5nIHBlcm1pc3Npb25zIGFuZAovLyBsaW1pdGF0aW9ucyB1bmRlciB0aGUgTGljZW5zZS4KCi8qKgogKiBAZmlsZW92ZXJ2aWV3IEhlbHBlcnMgZm9yIGdvb2dsZS5jb2xhYiBQeXRob24gbW9kdWxlLgogKi8KKGZ1bmN0aW9uKHNjb3BlKSB7CmZ1bmN0aW9uIHNwYW4odGV4dCwgc3R5bGVBdHRyaWJ1dGVzID0ge30pIHsKICBjb25zdCBlbGVtZW50ID0gZG9jdW1lbnQuY3JlYXRlRWxlbWVudCgnc3BhbicpOwogIGVsZW1lbnQudGV4dENvbnRlbnQgPSB0ZXh0OwogIGZvciAoY29uc3Qga2V5IG9mIE9iamVjdC5rZXlzKHN0eWxlQXR0cmlidXRlcykpIHsKICAgIGVsZW1lbnQuc3R5bGVba2V5XSA9IHN0eWxlQXR0cmlidXRlc1trZXldOwogIH0KICByZXR1cm4gZWxlbWVudDsKfQoKLy8gTWF4IG51bWJlciBvZiBieXRlcyB3aGljaCB3aWxsIGJlIHVwbG9hZGVkIGF0IGEgdGltZS4KY29uc3QgTUFYX1BBWUxPQURfU0laRSA9IDEwMCAqIDEwMjQ7CgpmdW5jdGlvbiBfdXBsb2FkRmlsZXMoaW5wdXRJZCwgb3V0cHV0SWQpIHsKICBjb25zdCBzdGVwcyA9IHVwbG9hZEZpbGVzU3RlcChpbnB1dElkLCBvdXRwdXRJZCk7CiAgY29uc3Qgb3V0cHV0RWxlbWVudCA9IGRvY3VtZW50LmdldEVsZW1lbnRCeUlkKG91dHB1dElkKTsKICAvLyBDYWNoZSBzdGVwcyBvbiB0aGUgb3V0cHV0RWxlbWVudCB0byBtYWtlIGl0IGF2YWlsYWJsZSBmb3IgdGhlIG5leHQgY2FsbAogIC8vIHRvIHVwbG9hZEZpbGVzQ29udGludWUgZnJvbSBQeXRob24uCiAgb3V0cHV0RWxlbWVudC5zdGVwcyA9IHN0ZXBzOwoKICByZXR1cm4gX3VwbG9hZEZpbGVzQ29udGludWUob3V0cHV0SWQpOwp9CgovLyBUaGlzIGlzIHJvdWdobHkgYW4gYXN5bmMgZ2VuZXJhdG9yIChub3Qgc3VwcG9ydGVkIGluIHRoZSBicm93c2VyIHlldCksCi8vIHdoZXJlIHRoZXJlIGFyZSBtdWx0aXBsZSBhc3luY2hyb25vdXMgc3RlcHMgYW5kIHRoZSBQeXRob24gc2lkZSBpcyBnb2luZwovLyB0byBwb2xsIGZvciBjb21wbGV0aW9uIG9mIGVhY2ggc3RlcC4KLy8gVGhpcyB1c2VzIGEgUHJvbWlzZSB0byBibG9jayB0aGUgcHl0aG9uIHNpZGUgb24gY29tcGxldGlvbiBvZiBlYWNoIHN0ZXAsCi8vIHRoZW4gcGFzc2VzIHRoZSByZXN1bHQgb2YgdGhlIHByZXZpb3VzIHN0ZXAgYXMgdGhlIGlucHV0IHRvIHRoZSBuZXh0IHN0ZXAuCmZ1bmN0aW9uIF91cGxvYWRGaWxlc0NvbnRpbnVlKG91dHB1dElkKSB7CiAgY29uc3Qgb3V0cHV0RWxlbWVudCA9IGRvY3VtZW50LmdldEVsZW1lbnRCeUlkKG91dHB1dElkKTsKICBjb25zdCBzdGVwcyA9IG91dHB1dEVsZW1lbnQuc3RlcHM7CgogIGNvbnN0IG5leHQgPSBzdGVwcy5uZXh0KG91dHB1dEVsZW1lbnQubGFzdFByb21pc2VWYWx1ZSk7CiAgcmV0dXJuIFByb21pc2UucmVzb2x2ZShuZXh0LnZhbHVlLnByb21pc2UpLnRoZW4oKHZhbHVlKSA9PiB7CiAgICAvLyBDYWNoZSB0aGUgbGFzdCBwcm9taXNlIHZhbHVlIHRvIG1ha2UgaXQgYXZhaWxhYmxlIHRvIHRoZSBuZXh0CiAgICAvLyBzdGVwIG9mIHRoZSBnZW5lcmF0b3IuCiAgICBvdXRwdXRFbGVtZW50Lmxhc3RQcm9taXNlVmFsdWUgPSB2YWx1ZTsKICAgIHJldHVybiBuZXh0LnZhbHVlLnJlc3BvbnNlOwogIH0pOwp9CgovKioKICogR2VuZXJhdG9yIGZ1bmN0aW9uIHdoaWNoIGlzIGNhbGxlZCBiZXR3ZWVuIGVhY2ggYXN5bmMgc3RlcCBvZiB0aGUgdXBsb2FkCiAqIHByb2Nlc3MuCiAqIEBwYXJhbSB7c3RyaW5nfSBpbnB1dElkIEVsZW1lbnQgSUQgb2YgdGhlIGlucHV0IGZpbGUgcGlja2VyIGVsZW1lbnQuCiAqIEBwYXJhbSB7c3RyaW5nfSBvdXRwdXRJZCBFbGVtZW50IElEIG9mIHRoZSBvdXRwdXQgZGlzcGxheS4KICogQHJldHVybiB7IUl0ZXJhYmxlPCFPYmplY3Q+fSBJdGVyYWJsZSBvZiBuZXh0IHN0ZXBzLgogKi8KZnVuY3Rpb24qIHVwbG9hZEZpbGVzU3RlcChpbnB1dElkLCBvdXRwdXRJZCkgewogIGNvbnN0IGlucHV0RWxlbWVudCA9IGRvY3VtZW50LmdldEVsZW1lbnRCeUlkKGlucHV0SWQpOwogIGlucHV0RWxlbWVudC5kaXNhYmxlZCA9IGZhbHNlOwoKICBjb25zdCBvdXRwdXRFbGVtZW50ID0gZG9jdW1lbnQuZ2V0RWxlbWVudEJ5SWQob3V0cHV0SWQpOwogIG91dHB1dEVsZW1lbnQuaW5uZXJIVE1MID0gJyc7CgogIGNvbnN0IHBpY2tlZFByb21pc2UgPSBuZXcgUHJvbWlzZSgocmVzb2x2ZSkgPT4gewogICAgaW5wdXRFbGVtZW50LmFkZEV2ZW50TGlzdGVuZXIoJ2NoYW5nZScsIChlKSA9PiB7CiAgICAgIHJlc29sdmUoZS50YXJnZXQuZmlsZXMpOwogICAgfSk7CiAgfSk7CgogIGNvbnN0IGNhbmNlbCA9IGRvY3VtZW50LmNyZWF0ZUVsZW1lbnQoJ2J1dHRvbicpOwogIGlucHV0RWxlbWVudC5wYXJlbnRFbGVtZW50LmFwcGVuZENoaWxkKGNhbmNlbCk7CiAgY2FuY2VsLnRleHRDb250ZW50ID0gJ0NhbmNlbCB1cGxvYWQnOwogIGNvbnN0IGNhbmNlbFByb21pc2UgPSBuZXcgUHJvbWlzZSgocmVzb2x2ZSkgPT4gewogICAgY2FuY2VsLm9uY2xpY2sgPSAoKSA9PiB7CiAgICAgIHJlc29sdmUobnVsbCk7CiAgICB9OwogIH0pOwoKICAvLyBXYWl0IGZvciB0aGUgdXNlciB0byBwaWNrIHRoZSBmaWxlcy4KICBjb25zdCBmaWxlcyA9IHlpZWxkIHsKICAgIHByb21pc2U6IFByb21pc2UucmFjZShbcGlja2VkUHJvbWlzZSwgY2FuY2VsUHJvbWlzZV0pLAogICAgcmVzcG9uc2U6IHsKICAgICAgYWN0aW9uOiAnc3RhcnRpbmcnLAogICAgfQogIH07CgogIGNhbmNlbC5yZW1vdmUoKTsKCiAgLy8gRGlzYWJsZSB0aGUgaW5wdXQgZWxlbWVudCBzaW5jZSBmdXJ0aGVyIHBpY2tzIGFyZSBub3QgYWxsb3dlZC4KICBpbnB1dEVsZW1lbnQuZGlzYWJsZWQgPSB0cnVlOwoKICBpZiAoIWZpbGVzKSB7CiAgICByZXR1cm4gewogICAgICByZXNwb25zZTogewogICAgICAgIGFjdGlvbjogJ2NvbXBsZXRlJywKICAgICAgfQogICAgfTsKICB9CgogIGZvciAoY29uc3QgZmlsZSBvZiBmaWxlcykgewogICAgY29uc3QgbGkgPSBkb2N1bWVudC5jcmVhdGVFbGVtZW50KCdsaScpOwogICAgbGkuYXBwZW5kKHNwYW4oZmlsZS5uYW1lLCB7Zm9udFdlaWdodDogJ2JvbGQnfSkpOwogICAgbGkuYXBwZW5kKHNwYW4oCiAgICAgICAgYCgke2ZpbGUudHlwZSB8fCAnbi9hJ30pIC0gJHtmaWxlLnNpemV9IGJ5dGVzLCBgICsKICAgICAgICBgbGFzdCBtb2RpZmllZDogJHsKICAgICAgICAgICAgZmlsZS5sYXN0TW9kaWZpZWREYXRlID8gZmlsZS5sYXN0TW9kaWZpZWREYXRlLnRvTG9jYWxlRGF0ZVN0cmluZygpIDoKICAgICAgICAgICAgICAgICAgICAgICAgICAgICAgICAgICAgJ24vYSd9IC0gYCkpOwogICAgY29uc3QgcGVyY2VudCA9IHNwYW4oJzAlIGRvbmUnKTsKICAgIGxpLmFwcGVuZENoaWxkKHBlcmNlbnQpOwoKICAgIG91dHB1dEVsZW1lbnQuYXBwZW5kQ2hpbGQobGkpOwoKICAgIGNvbnN0IGZpbGVEYXRhUHJvbWlzZSA9IG5ldyBQcm9taXNlKChyZXNvbHZlKSA9PiB7CiAgICAgIGNvbnN0IHJlYWRlciA9IG5ldyBGaWxlUmVhZGVyKCk7CiAgICAgIHJlYWRlci5vbmxvYWQgPSAoZSkgPT4gewogICAgICAgIHJlc29sdmUoZS50YXJnZXQucmVzdWx0KTsKICAgICAgfTsKICAgICAgcmVhZGVyLnJlYWRBc0FycmF5QnVmZmVyKGZpbGUpOwogICAgfSk7CiAgICAvLyBXYWl0IGZvciB0aGUgZGF0YSB0byBiZSByZWFkeS4KICAgIGxldCBmaWxlRGF0YSA9IHlpZWxkIHsKICAgICAgcHJvbWlzZTogZmlsZURhdGFQcm9taXNlLAogICAgICByZXNwb25zZTogewogICAgICAgIGFjdGlvbjogJ2NvbnRpbnVlJywKICAgICAgfQogICAgfTsKCiAgICAvLyBVc2UgYSBjaHVua2VkIHNlbmRpbmcgdG8gYXZvaWQgbWVzc2FnZSBzaXplIGxpbWl0cy4gU2VlIGIvNjIxMTU2NjAuCiAgICBsZXQgcG9zaXRpb24gPSAwOwogICAgZG8gewogICAgICBjb25zdCBsZW5ndGggPSBNYXRoLm1pbihmaWxlRGF0YS5ieXRlTGVuZ3RoIC0gcG9zaXRpb24sIE1BWF9QQVlMT0FEX1NJWkUpOwogICAgICBjb25zdCBjaHVuayA9IG5ldyBVaW50OEFycmF5KGZpbGVEYXRhLCBwb3NpdGlvbiwgbGVuZ3RoKTsKICAgICAgcG9zaXRpb24gKz0gbGVuZ3RoOwoKICAgICAgY29uc3QgYmFzZTY0ID0gYnRvYShTdHJpbmcuZnJvbUNoYXJDb2RlLmFwcGx5KG51bGwsIGNodW5rKSk7CiAgICAgIHlpZWxkIHsKICAgICAgICByZXNwb25zZTogewogICAgICAgICAgYWN0aW9uOiAnYXBwZW5kJywKICAgICAgICAgIGZpbGU6IGZpbGUubmFtZSwKICAgICAgICAgIGRhdGE6IGJhc2U2NCwKICAgICAgICB9LAogICAgICB9OwoKICAgICAgbGV0IHBlcmNlbnREb25lID0gZmlsZURhdGEuYnl0ZUxlbmd0aCA9PT0gMCA/CiAgICAgICAgICAxMDAgOgogICAgICAgICAgTWF0aC5yb3VuZCgocG9zaXRpb24gLyBmaWxlRGF0YS5ieXRlTGVuZ3RoKSAqIDEwMCk7CiAgICAgIHBlcmNlbnQudGV4dENvbnRlbnQgPSBgJHtwZXJjZW50RG9uZX0lIGRvbmVgOwoKICAgIH0gd2hpbGUgKHBvc2l0aW9uIDwgZmlsZURhdGEuYnl0ZUxlbmd0aCk7CiAgfQoKICAvLyBBbGwgZG9uZS4KICB5aWVsZCB7CiAgICByZXNwb25zZTogewogICAgICBhY3Rpb246ICdjb21wbGV0ZScsCiAgICB9CiAgfTsKfQoKc2NvcGUuZ29vZ2xlID0gc2NvcGUuZ29vZ2xlIHx8IHt9OwpzY29wZS5nb29nbGUuY29sYWIgPSBzY29wZS5nb29nbGUuY29sYWIgfHwge307CnNjb3BlLmdvb2dsZS5jb2xhYi5fZmlsZXMgPSB7CiAgX3VwbG9hZEZpbGVzLAogIF91cGxvYWRGaWxlc0NvbnRpbnVlLAp9Owp9KShzZWxmKTsK",
              "ok": true,
              "headers": [
                [
                  "content-type",
                  "application/javascript"
                ]
              ],
              "status": 200,
              "status_text": ""
            }
          },
          "base_uri": "https://localhost:8080/",
          "height": 72
        },
        "id": "FdWXqiUL-vRA",
        "outputId": "7488680b-c762-4899-badd-ba1ebfcbfeea"
      },
      "source": [
        "from google.colab import files\n",
        "uploaded = files.upload()"
      ],
      "execution_count": null,
      "outputs": [
        {
          "output_type": "display_data",
          "data": {
            "text/html": [
              "\n",
              "     <input type=\"file\" id=\"files-513510a5-0b68-4c59-9c8b-45adc9a6a635\" name=\"files[]\" multiple disabled\n",
              "        style=\"border:none\" />\n",
              "     <output id=\"result-513510a5-0b68-4c59-9c8b-45adc9a6a635\">\n",
              "      Upload widget is only available when the cell has been executed in the\n",
              "      current browser session. Please rerun this cell to enable.\n",
              "      </output>\n",
              "      <script src=\"/nbextensions/google.colab/files.js\"></script> "
            ],
            "text/plain": [
              "<IPython.core.display.HTML object>"
            ]
          },
          "metadata": {}
        },
        {
          "output_type": "stream",
          "name": "stdout",
          "text": [
            "Saving kaggle.json to kaggle.json\n"
          ]
        }
      ]
    },
    {
      "cell_type": "code",
      "metadata": {
        "id": "UNF5I-BUBRYk"
      },
      "source": [
        "!mkdir /root/.kaggle\n",
        "!cp kaggle.json ~/.kaggle/\n",
        "!chmod 600 /root/.kaggle/kaggle.json"
      ],
      "execution_count": null,
      "outputs": []
    },
    {
      "cell_type": "code",
      "metadata": {
        "colab": {
          "base_uri": "https://localhost:8080/",
          "height": 35
        },
        "id": "tfTOK8X3DSMx",
        "outputId": "372564cc-e649-476e-ff93-523b9d37f452"
      },
      "source": [
        "pwd"
      ],
      "execution_count": null,
      "outputs": [
        {
          "output_type": "execute_result",
          "data": {
            "application/vnd.google.colaboratory.intrinsic+json": {
              "type": "string"
            },
            "text/plain": [
              "'/content'"
            ]
          },
          "metadata": {},
          "execution_count": 4
        }
      ]
    },
    {
      "cell_type": "code",
      "metadata": {
        "colab": {
          "base_uri": "https://localhost:8080/"
        },
        "id": "SqtrEeEw-PYL",
        "outputId": "59fecf4f-dc80-497d-de6f-fff0f8ef34b7"
      },
      "source": [
        "!kaggle competitions download -c maskclassification"
      ],
      "execution_count": null,
      "outputs": [
        {
          "output_type": "stream",
          "name": "stdout",
          "text": [
            "Downloading maskclassification.zip to /content\n",
            " 89% 113M/127M [00:03<00:00, 21.5MB/s] \n",
            "100% 127M/127M [00:03<00:00, 33.6MB/s]\n"
          ]
        }
      ]
    },
    {
      "cell_type": "code",
      "metadata": {
        "id": "WH2VsyToHfOQ"
      },
      "source": [
        "!unzip maskclassification.zip"
      ],
      "execution_count": null,
      "outputs": []
    },
    {
      "cell_type": "code",
      "metadata": {
        "id": "dQfj3HmKSyXE"
      },
      "source": [
        "import numpy as np\n",
        "import matplotlib.pyplot as plt\n",
        "import os\n",
        "import cv2\n"
      ],
      "execution_count": null,
      "outputs": []
    },
    {
      "cell_type": "code",
      "metadata": {
        "id": "-6-4ulSSSyXH"
      },
      "source": [
        "data_directory =r\"/content/train/train\"\n",
        "categories = ['without_mask','with_mask']"
      ],
      "execution_count": null,
      "outputs": []
    },
    {
      "cell_type": "code",
      "metadata": {
        "colab": {
          "base_uri": "https://localhost:8080/",
          "height": 268
        },
        "id": "feq3RPRJSyXH",
        "outputId": "67ee398a-728a-47c3-93fd-39813915cc3a"
      },
      "source": [
        "for category in categories:\n",
        "    path = os.path.join(data_directory,category)\n",
        "    for images in os.listdir(path):\n",
        "        img_array= cv2.imread(os.path.join(path,images),cv2.IMREAD_GRAYSCALE)\n",
        "        plt.imshow(img_array,cmap=\"gray\")\n",
        "        plt.show()\n",
        "        break\n",
        "    break"
      ],
      "execution_count": null,
      "outputs": [
        {
          "output_type": "display_data",
          "data": {
            "image/png": "[encoded data removed]",
            "text/plain": [
              "<Figure size 432x288 with 1 Axes>"
            ]
          },
          "metadata": {
            "needs_background": "light"
          }
        }
      ]
    },
    {
      "cell_type": "code",
      "metadata": {
        "id": "mmJ1JwxcSyXI",
        "colab": {
          "base_uri": "https://localhost:8080/"
        },
        "outputId": "58d70002-71d3-41c6-c77f-31cc3e39578b"
      },
      "source": [
        "print(img_array.shape)"
      ],
      "execution_count": null,
      "outputs": [
        {
          "output_type": "stream",
          "name": "stdout",
          "text": [
            "(113, 128)\n"
          ]
        }
      ]
    },
    {
      "cell_type": "code",
      "metadata": {
        "id": "aytBgVUxSyXI"
      },
      "source": [
        "img_size= 150\n",
        "new_images = cv2.resize(img_array,(img_size,img_size))"
      ],
      "execution_count": null,
      "outputs": []
    },
    {
      "cell_type": "code",
      "metadata": {
        "id": "yVZBXulxSyXI",
        "colab": {
          "base_uri": "https://localhost:8080/",
          "height": 286
        },
        "outputId": "5f5219f4-aa03-437e-8d1b-8c12f3d71bbe"
      },
      "source": [
        "plt.imshow(new_images,cmap=\"gray\")\n",
        "plt.show"
      ],
      "execution_count": null,
      "outputs": [
        {
          "output_type": "execute_result",
          "data": {
            "text/plain": [
              "<function matplotlib.pyplot.show>"
            ]
          },
          "metadata": {},
          "execution_count": 12
        },
        {
          "output_type": "display_data",
          "data": {
            "image/png": "[encoded data removed]",
            "text/plain": [
              "<Figure size 432x288 with 1 Axes>"
            ]
          },
          "metadata": {
            "needs_background": "light"
          }
        }
      ]
    },
    {
      "cell_type": "code",
      "metadata": {
        "id": "8k7E36rFSyXJ"
      },
      "source": [
        "training_data =[]\n",
        "def create_training_data():\n",
        "    for category in categories:\n",
        "      path = os.path.join(data_directory,category)\n",
        "      class_index = categories.index(category)\n",
        "      for images in os.listdir(path):\n",
        "          try :\n",
        "              img_array= cv2.imread(os.path.join(path,images),cv2.IMREAD_GRAYSCALE)\n",
        "              new_image = cv2.resize(img_array,(img_size,img_size))\n",
        "              training_data.append([new_image,class_index])\n",
        "          except Exception as e:\n",
        "              pass"
      ],
      "execution_count": null,
      "outputs": []
    },
    {
      "cell_type": "code",
      "metadata": {
        "id": "RUVoXlvgSyXJ"
      },
      "source": [
        "create_training_data()"
      ],
      "execution_count": null,
      "outputs": []
    },
    {
      "cell_type": "code",
      "metadata": {
        "id": "HyWBwdcBWn11"
      },
      "source": [
        "print(training_data)"
      ],
      "execution_count": null,
      "outputs": []
    },
    {
      "cell_type": "code",
      "metadata": {
        "id": "JVC2QLFJSyXJ",
        "colab": {
          "base_uri": "https://localhost:8080/"
        },
        "outputId": "029d1892-a1b2-4515-d4a3-200699403788"
      },
      "source": [
        "print(len(training_data))"
      ],
      "execution_count": null,
      "outputs": [
        {
          "output_type": "stream",
          "name": "stdout",
          "text": [
            "3384\n"
          ]
        }
      ]
    },
    {
      "cell_type": "code",
      "metadata": {
        "id": "NebEst3DSyXK"
      },
      "source": [
        "import random\n",
        "random.shuffle(training_data)"
      ],
      "execution_count": null,
      "outputs": []
    },
    {
      "cell_type": "code",
      "metadata": {
        "id": "hXSv1Xw5SyXK"
      },
      "source": [
        "for sample in training_data:\n",
        "    print(sample[1])"
      ],
      "execution_count": null,
      "outputs": []
    },
    {
      "cell_type": "code",
      "metadata": {
        "id": "iUVtqg17SyXK"
      },
      "source": [
        "X=[]\n",
        "Y=[]\n",
        "for features, labels in training_data:\n",
        "    X.append(features)\n",
        "    Y.append(labels)\n"
      ],
      "execution_count": null,
      "outputs": []
    },
    {
      "cell_type": "code",
      "metadata": {
        "id": "OBYxYKh3SyXK"
      },
      "source": [
        "X= np.array(X).reshape(-1,img_size,img_size,1)\n",
        "Y = np.array(Y)"
      ],
      "execution_count": null,
      "outputs": []
    },
    {
      "cell_type": "code",
      "metadata": {
        "colab": {
          "base_uri": "https://localhost:8080/"
        },
        "id": "L2TJRdmNL6ZF",
        "outputId": "3a86b95e-823a-4337-f614-1bffb942acb4"
      },
      "source": [
        "print(X.shape)"
      ],
      "execution_count": null,
      "outputs": [
        {
          "output_type": "stream",
          "name": "stdout",
          "text": [
            "(3384, 150, 150, 1)\n"
          ]
        }
      ]
    },
    {
      "cell_type": "code",
      "metadata": {
        "id": "z90Mj89NSyXK"
      },
      "source": [
        "from sklearn.model_selection import train_test_split\n",
        "x_train,x_test,y_train,y_test= train_test_split(X,Y,test_size=0.15, random_state=42,stratify=Y)"
      ],
      "execution_count": null,
      "outputs": []
    },
    {
      "cell_type": "code",
      "metadata": {
        "id": "DJu6T128SyXL",
        "colab": {
          "base_uri": "https://localhost:8080/"
        },
        "outputId": "042739a0-88bf-4def-9520-d2e240884480"
      },
      "source": [
        "print(len(x_train))\n",
        "print(len(y_train))\n",
        "print(len(x_test))\n",
        "print(len(y_test))"
      ],
      "execution_count": null,
      "outputs": [
        {
          "output_type": "stream",
          "name": "stdout",
          "text": [
            "2876\n",
            "2876\n",
            "508\n",
            "508\n"
          ]
        }
      ]
    },
    {
      "cell_type": "code",
      "metadata": {
        "id": "zq5Hz_PsSyXL"
      },
      "source": [
        "x_train = x_train/255\n",
        "x_test=x_test/255"
      ],
      "execution_count": null,
      "outputs": []
    },
    {
      "cell_type": "code",
      "metadata": {
        "id": "m3XAhWYgSyXL"
      },
      "source": [
        "import tensorflow as tf"
      ],
      "execution_count": null,
      "outputs": []
    },
    {
      "cell_type": "code",
      "metadata": {
        "id": "O9-_J4BnSyXL"
      },
      "source": [
        "model = tf.keras.models.Sequential([tf.keras.layers.Conv2D(64,(3,3),activation = 'relu'),\n",
        "                                    tf.keras.layers.MaxPool2D(2,2),\n",
        "                                   tf.keras.layers.Conv2D(128,(3,3),activation='relu'),\n",
        "                                   tf.keras.layers.MaxPool2D(2,2),\n",
        "                                   tf.keras.layers.Conv2D(256,(3,3),activation='relu'),\n",
        "                                    tf.keras.layers.MaxPool2D(2,2),\n",
        "                                    tf.keras.layers.Conv2D(1024,(3,3),activation='relu'),\n",
        "                                    tf.keras.layers.MaxPool2D(2,2),\n",
        "                                    tf.keras.layers.Conv2D(2048,(3,3),activation='relu'),\n",
        "                                     tf.keras.layers.MaxPool2D(2,2),\n",
        "                                    tf.keras.layers.Flatten(),\n",
        "                                     tf.keras.layers.Dense(512,activation='relu'),\n",
        "                                   tf.keras.layers.Dense(1024,activation='relu'),\n",
        "                                    tf.keras.layers.Dropout(0.1),\n",
        "                                   tf.keras.layers.Dense(2048,activation='relu'),\n",
        "                                    # tf.keras.layers.Dropout(0.1),\n",
        "                                  tf.keras.layers.Dense(4096,activation='relu'),\n",
        "                                   #tf.keras.layers.Dropout(0.1),\n",
        "                                   tf.keras.layers.Dense(1,activation='sigmoid')])"
      ],
      "execution_count": null,
      "outputs": []
    },
    {
      "cell_type": "code",
      "metadata": {
        "id": "Ra5cVrEySyXL"
      },
      "source": [
        "model.compile(optimizer=tf.optimizers.RMSprop(),loss=\"binary_crossentropy\",metrics=['accuracy'])"
      ],
      "execution_count": null,
      "outputs": []
    },
    {
      "cell_type": "code",
      "metadata": {
        "id": "Rv4vPe31SyXL",
        "colab": {
          "base_uri": "https://localhost:8080/"
        },
        "outputId": "304ef6ba-00e8-4342-ca70-814f93967b5c"
      },
      "source": [
        "model.fit(x_train,y_train,epochs=125,verbose=1)"
      ],
      "execution_count": null,
      "outputs": [
        {
          "output_type": "stream",
          "name": "stdout",
          "text": [
            "Epoch 1/125\n",
            "90/90 [==============================] - 20s 202ms/step - loss: 4.4496 - accuracy: 0.5449\n",
            "Epoch 2/125\n",
            "90/90 [==============================] - 18s 202ms/step - loss: 0.8218 - accuracy: 0.5396\n",
            "Epoch 3/125\n",
            "90/90 [==============================] - 18s 201ms/step - loss: 0.7866 - accuracy: 0.5386\n",
            "Epoch 4/125\n",
            "90/90 [==============================] - 18s 201ms/step - loss: 0.6723 - accuracy: 0.6373\n",
            "Epoch 5/125\n",
            "90/90 [==============================] - 18s 201ms/step - loss: 0.4785 - accuracy: 0.8025\n",
            "Epoch 6/125\n",
            "90/90 [==============================] - 18s 202ms/step - loss: 0.2525 - accuracy: 0.9287\n",
            "Epoch 7/125\n",
            "90/90 [==============================] - 18s 202ms/step - loss: 0.2318 - accuracy: 0.9426\n",
            "Epoch 8/125\n",
            "90/90 [==============================] - 18s 202ms/step - loss: 0.7683 - accuracy: 0.9475\n",
            "Epoch 9/125\n",
            "90/90 [==============================] - 18s 201ms/step - loss: 0.1114 - accuracy: 0.9638\n",
            "Epoch 10/125\n",
            "90/90 [==============================] - 18s 202ms/step - loss: 0.1293 - accuracy: 0.9611\n",
            "Epoch 11/125\n",
            "90/90 [==============================] - 18s 202ms/step - loss: 0.1411 - accuracy: 0.9624\n",
            "Epoch 12/125\n",
            "90/90 [==============================] - 18s 202ms/step - loss: 0.0993 - accuracy: 0.9725\n",
            "Epoch 13/125\n",
            "90/90 [==============================] - 18s 201ms/step - loss: 0.1754 - accuracy: 0.9666\n",
            "Epoch 14/125\n",
            "90/90 [==============================] - 18s 201ms/step - loss: 0.0791 - accuracy: 0.9767\n",
            "Epoch 15/125\n",
            "90/90 [==============================] - 18s 201ms/step - loss: 0.1041 - accuracy: 0.9771\n",
            "Epoch 16/125\n",
            "90/90 [==============================] - 18s 201ms/step - loss: 0.0995 - accuracy: 0.9784\n",
            "Epoch 17/125\n",
            "90/90 [==============================] - 18s 202ms/step - loss: 0.1470 - accuracy: 0.9718\n",
            "Epoch 18/125\n",
            "90/90 [==============================] - 18s 202ms/step - loss: 0.0884 - accuracy: 0.9739\n",
            "Epoch 19/125\n",
            "90/90 [==============================] - 18s 201ms/step - loss: 0.3510 - accuracy: 0.9757\n",
            "Epoch 20/125\n",
            "90/90 [==============================] - 18s 201ms/step - loss: 0.0624 - accuracy: 0.9809\n",
            "Epoch 21/125\n",
            "90/90 [==============================] - 18s 201ms/step - loss: 0.0725 - accuracy: 0.9802\n",
            "Epoch 22/125\n",
            "90/90 [==============================] - 18s 201ms/step - loss: 0.0831 - accuracy: 0.9830\n",
            "Epoch 23/125\n",
            "90/90 [==============================] - 18s 201ms/step - loss: 0.0984 - accuracy: 0.9739\n",
            "Epoch 24/125\n",
            "90/90 [==============================] - 18s 201ms/step - loss: 0.0843 - accuracy: 0.9864\n",
            "Epoch 25/125\n",
            "90/90 [==============================] - 18s 201ms/step - loss: 0.0823 - accuracy: 0.9864\n",
            "Epoch 26/125\n",
            "90/90 [==============================] - 18s 201ms/step - loss: 0.0793 - accuracy: 0.9757\n",
            "Epoch 27/125\n",
            "90/90 [==============================] - 18s 201ms/step - loss: 0.0421 - accuracy: 0.9875\n",
            "Epoch 28/125\n",
            "90/90 [==============================] - 18s 202ms/step - loss: 0.6717 - accuracy: 0.9791\n",
            "Epoch 29/125\n",
            "90/90 [==============================] - 18s 201ms/step - loss: 0.1860 - accuracy: 0.9809\n",
            "Epoch 30/125\n",
            "90/90 [==============================] - 18s 201ms/step - loss: 0.0377 - accuracy: 0.9871\n",
            "Epoch 31/125\n",
            "90/90 [==============================] - 18s 201ms/step - loss: 0.4308 - accuracy: 0.9096\n",
            "Epoch 32/125\n",
            "90/90 [==============================] - 18s 201ms/step - loss: 0.0722 - accuracy: 0.9885\n",
            "Epoch 33/125\n",
            "90/90 [==============================] - 18s 202ms/step - loss: 0.1349 - accuracy: 0.9784\n",
            "Epoch 34/125\n",
            "90/90 [==============================] - 18s 201ms/step - loss: 0.1429 - accuracy: 0.9642\n",
            "Epoch 35/125\n",
            "90/90 [==============================] - 18s 201ms/step - loss: 0.0574 - accuracy: 0.9819\n",
            "Epoch 36/125\n",
            "90/90 [==============================] - 18s 201ms/step - loss: 0.0728 - accuracy: 0.9857\n",
            "Epoch 37/125\n",
            "90/90 [==============================] - 18s 202ms/step - loss: 0.0502 - accuracy: 0.9882\n",
            "Epoch 38/125\n",
            "90/90 [==============================] - 18s 201ms/step - loss: 0.2461 - accuracy: 0.9878\n",
            "Epoch 39/125\n",
            "90/90 [==============================] - 18s 201ms/step - loss: 0.0482 - accuracy: 0.9934\n",
            "Epoch 40/125\n",
            "90/90 [==============================] - 18s 201ms/step - loss: 0.1129 - accuracy: 0.9882\n",
            "Epoch 41/125\n",
            "90/90 [==============================] - 18s 201ms/step - loss: 0.1283 - accuracy: 0.9937\n",
            "Epoch 42/125\n",
            "90/90 [==============================] - 18s 201ms/step - loss: 0.2288 - accuracy: 0.9913\n",
            "Epoch 43/125\n",
            "90/90 [==============================] - 18s 201ms/step - loss: 0.7798 - accuracy: 0.9816\n",
            "Epoch 44/125\n",
            "90/90 [==============================] - 18s 201ms/step - loss: 0.0234 - accuracy: 0.9930\n",
            "Epoch 45/125\n",
            "90/90 [==============================] - 18s 201ms/step - loss: 0.0520 - accuracy: 0.9962\n",
            "Epoch 46/125\n",
            "90/90 [==============================] - 18s 201ms/step - loss: 0.0679 - accuracy: 0.9791\n",
            "Epoch 47/125\n",
            "90/90 [==============================] - 18s 201ms/step - loss: 0.1624 - accuracy: 0.9899\n",
            "Epoch 48/125\n",
            "90/90 [==============================] - 18s 201ms/step - loss: 0.0245 - accuracy: 0.9969\n",
            "Epoch 49/125\n",
            "90/90 [==============================] - 18s 202ms/step - loss: 0.0634 - accuracy: 0.9913\n",
            "Epoch 50/125\n",
            "90/90 [==============================] - 18s 201ms/step - loss: 0.0263 - accuracy: 0.9948\n",
            "Epoch 51/125\n",
            "90/90 [==============================] - 18s 201ms/step - loss: 0.0417 - accuracy: 0.9941\n",
            "Epoch 52/125\n",
            "90/90 [==============================] - 18s 201ms/step - loss: 0.1857 - accuracy: 0.9847\n",
            "Epoch 53/125\n",
            "90/90 [==============================] - 18s 201ms/step - loss: 0.0101 - accuracy: 0.9976\n",
            "Epoch 54/125\n",
            "90/90 [==============================] - 18s 201ms/step - loss: 0.1724 - accuracy: 0.9819\n",
            "Epoch 55/125\n",
            "90/90 [==============================] - 18s 201ms/step - loss: 0.0789 - accuracy: 0.9934\n",
            "Epoch 56/125\n",
            "90/90 [==============================] - 18s 201ms/step - loss: 0.0296 - accuracy: 0.9976\n",
            "Epoch 57/125\n",
            "90/90 [==============================] - 18s 201ms/step - loss: 9.9563e-04 - accuracy: 0.9997\n",
            "Epoch 58/125\n",
            "90/90 [==============================] - 18s 201ms/step - loss: 0.0999 - accuracy: 0.9913\n",
            "Epoch 59/125\n",
            "90/90 [==============================] - 18s 201ms/step - loss: 0.0669 - accuracy: 0.9958\n",
            "Epoch 60/125\n",
            "90/90 [==============================] - 18s 201ms/step - loss: 0.0439 - accuracy: 0.9972\n",
            "Epoch 61/125\n",
            "90/90 [==============================] - 18s 201ms/step - loss: 0.1047 - accuracy: 0.9976\n",
            "Epoch 62/125\n",
            "90/90 [==============================] - 18s 201ms/step - loss: 1.2404 - accuracy: 0.9844\n",
            "Epoch 63/125\n",
            "90/90 [==============================] - 18s 201ms/step - loss: 0.0353 - accuracy: 0.9899\n",
            "Epoch 64/125\n",
            "90/90 [==============================] - 18s 201ms/step - loss: 0.0401 - accuracy: 0.9934\n",
            "Epoch 65/125\n",
            "90/90 [==============================] - 18s 202ms/step - loss: 7.7839e-05 - accuracy: 1.0000\n",
            "Epoch 66/125\n",
            "90/90 [==============================] - 18s 201ms/step - loss: 7.7242e-08 - accuracy: 1.0000\n",
            "Epoch 67/125\n",
            "90/90 [==============================] - 18s 201ms/step - loss: 3.7063e-12 - accuracy: 1.0000\n",
            "Epoch 68/125\n",
            "90/90 [==============================] - 18s 201ms/step - loss: 0.1054 - accuracy: 0.9962\n",
            "Epoch 69/125\n",
            "90/90 [==============================] - 18s 201ms/step - loss: 0.0147 - accuracy: 0.9986\n",
            "Epoch 70/125\n",
            "90/90 [==============================] - 18s 201ms/step - loss: 0.2177 - accuracy: 0.9871\n",
            "Epoch 71/125\n",
            "90/90 [==============================] - 18s 201ms/step - loss: 0.0978 - accuracy: 0.9833\n",
            "Epoch 72/125\n",
            "90/90 [==============================] - 18s 201ms/step - loss: 0.0152 - accuracy: 0.9965\n",
            "Epoch 73/125\n",
            "90/90 [==============================] - 18s 201ms/step - loss: 0.0382 - accuracy: 0.9983\n",
            "Epoch 74/125\n",
            "90/90 [==============================] - 18s 201ms/step - loss: 0.0397 - accuracy: 0.9962\n",
            "Epoch 75/125\n",
            "90/90 [==============================] - 18s 201ms/step - loss: 2.5658e-04 - accuracy: 1.0000\n",
            "Epoch 76/125\n",
            "90/90 [==============================] - 18s 201ms/step - loss: 9.1056e-08 - accuracy: 1.0000\n",
            "Epoch 77/125\n",
            "90/90 [==============================] - 18s 201ms/step - loss: 3.4487e-09 - accuracy: 1.0000\n",
            "Epoch 78/125\n",
            "90/90 [==============================] - 18s 201ms/step - loss: 0.0128 - accuracy: 0.9979\n",
            "Epoch 79/125\n",
            "90/90 [==============================] - 18s 202ms/step - loss: 0.0952 - accuracy: 0.9917\n",
            "Epoch 80/125\n",
            "90/90 [==============================] - 18s 201ms/step - loss: 1.5375e-05 - accuracy: 1.0000\n",
            "Epoch 81/125\n",
            "90/90 [==============================] - 18s 201ms/step - loss: 0.0240 - accuracy: 0.9983\n",
            "Epoch 82/125\n",
            "90/90 [==============================] - 18s 201ms/step - loss: 0.3541 - accuracy: 0.9958\n",
            "Epoch 83/125\n",
            "90/90 [==============================] - 18s 201ms/step - loss: 0.0082 - accuracy: 0.9986\n",
            "Epoch 84/125\n",
            "90/90 [==============================] - 18s 201ms/step - loss: 1.0708e-08 - accuracy: 1.0000\n",
            "Epoch 85/125\n",
            "90/90 [==============================] - 18s 201ms/step - loss: 3.3697e-09 - accuracy: 1.0000\n",
            "Epoch 86/125\n",
            "90/90 [==============================] - 18s 201ms/step - loss: 3.8945e-12 - accuracy: 1.0000\n",
            "Epoch 87/125\n",
            "90/90 [==============================] - 18s 201ms/step - loss: 0.3384 - accuracy: 0.9976\n",
            "Epoch 88/125\n",
            "90/90 [==============================] - 18s 201ms/step - loss: 0.0345 - accuracy: 0.9969\n",
            "Epoch 89/125\n",
            "90/90 [==============================] - 18s 201ms/step - loss: 0.0116 - accuracy: 0.9990\n",
            "Epoch 90/125\n",
            "90/90 [==============================] - 18s 201ms/step - loss: 0.4247 - accuracy: 0.9798\n",
            "Epoch 91/125\n",
            "90/90 [==============================] - 18s 201ms/step - loss: 0.0320 - accuracy: 0.9969\n",
            "Epoch 92/125\n",
            "90/90 [==============================] - 18s 201ms/step - loss: 0.4340 - accuracy: 0.9920\n",
            "Epoch 93/125\n",
            "90/90 [==============================] - 18s 201ms/step - loss: 0.0035 - accuracy: 0.9990\n",
            "Epoch 94/125\n",
            "90/90 [==============================] - 18s 201ms/step - loss: 0.0165 - accuracy: 0.9983\n",
            "Epoch 95/125\n",
            "90/90 [==============================] - 18s 201ms/step - loss: 0.0122 - accuracy: 0.9986\n",
            "Epoch 96/125\n",
            "90/90 [==============================] - 18s 201ms/step - loss: 1.3709e-07 - accuracy: 1.0000\n",
            "Epoch 97/125\n",
            "90/90 [==============================] - 18s 201ms/step - loss: 8.1440e-11 - accuracy: 1.0000\n",
            "Epoch 98/125\n",
            "90/90 [==============================] - 18s 201ms/step - loss: 1.4584e-11 - accuracy: 1.0000\n",
            "Epoch 99/125\n",
            "90/90 [==============================] - 18s 201ms/step - loss: 6.8679e-11 - accuracy: 1.0000\n",
            "Epoch 100/125\n",
            "90/90 [==============================] - 18s 201ms/step - loss: 6.9638e-14 - accuracy: 1.0000\n",
            "Epoch 101/125\n",
            "90/90 [==============================] - 18s 201ms/step - loss: 2.0886e-14 - accuracy: 1.0000\n",
            "Epoch 102/125\n",
            "90/90 [==============================] - 18s 201ms/step - loss: 2.8619e-14 - accuracy: 1.0000\n",
            "Epoch 103/125\n",
            "90/90 [==============================] - 18s 201ms/step - loss: 5.4940e-14 - accuracy: 1.0000\n",
            "Epoch 104/125\n",
            "90/90 [==============================] - 18s 201ms/step - loss: 4.3732e-14 - accuracy: 1.0000\n",
            "Epoch 105/125\n",
            "90/90 [==============================] - 18s 201ms/step - loss: 6.6787e-15 - accuracy: 1.0000\n",
            "Epoch 106/125\n",
            "90/90 [==============================] - 18s 201ms/step - loss: 1.1451e-14 - accuracy: 1.0000\n",
            "Epoch 107/125\n",
            "90/90 [==============================] - 18s 201ms/step - loss: 6.0751e-14 - accuracy: 1.0000\n",
            "Epoch 108/125\n",
            "90/90 [==============================] - 18s 201ms/step - loss: 2.0825e-14 - accuracy: 1.0000\n",
            "Epoch 109/125\n",
            "90/90 [==============================] - 18s 201ms/step - loss: 3.3103e-14 - accuracy: 1.0000\n",
            "Epoch 110/125\n",
            "90/90 [==============================] - 18s 201ms/step - loss: 4.7329e-14 - accuracy: 1.0000\n",
            "Epoch 111/125\n",
            "90/90 [==============================] - 18s 201ms/step - loss: 8.5703e-14 - accuracy: 1.0000\n",
            "Epoch 112/125\n",
            "90/90 [==============================] - 18s 201ms/step - loss: 2.0373e-14 - accuracy: 1.0000\n",
            "Epoch 113/125\n",
            "90/90 [==============================] - 18s 201ms/step - loss: 1.0031e-13 - accuracy: 1.0000\n",
            "Epoch 114/125\n",
            "90/90 [==============================] - 18s 201ms/step - loss: 3.9901e-14 - accuracy: 1.0000\n",
            "Epoch 115/125\n",
            "90/90 [==============================] - 18s 201ms/step - loss: 1.7011e-13 - accuracy: 1.0000\n",
            "Epoch 116/125\n",
            "90/90 [==============================] - 18s 201ms/step - loss: 7.3157e-15 - accuracy: 1.0000\n",
            "Epoch 117/125\n",
            "90/90 [==============================] - 18s 201ms/step - loss: 6.1119e-15 - accuracy: 1.0000\n",
            "Epoch 118/125\n",
            "90/90 [==============================] - 18s 201ms/step - loss: 2.6456e-14 - accuracy: 1.0000\n",
            "Epoch 119/125\n",
            "90/90 [==============================] - 18s 201ms/step - loss: 2.0140e-14 - accuracy: 1.0000\n",
            "Epoch 120/125\n",
            "90/90 [==============================] - 18s 201ms/step - loss: 1.0068e-13 - accuracy: 1.0000\n",
            "Epoch 121/125\n",
            "90/90 [==============================] - 18s 201ms/step - loss: 4.7681e-15 - accuracy: 1.0000\n",
            "Epoch 122/125\n",
            "90/90 [==============================] - 18s 200ms/step - loss: 9.1860e-14 - accuracy: 1.0000\n",
            "Epoch 123/125\n",
            "90/90 [==============================] - 18s 201ms/step - loss: 1.1492e-14 - accuracy: 1.0000\n",
            "Epoch 124/125\n",
            "90/90 [==============================] - 18s 201ms/step - loss: 3.3326e-14 - accuracy: 1.0000\n",
            "Epoch 125/125\n",
            "90/90 [==============================] - 18s 201ms/step - loss: 6.8530e-14 - accuracy: 1.0000\n"
          ]
        },
        {
          "output_type": "execute_result",
          "data": {
            "text/plain": [
              "<keras.callbacks.History at 0x7f49f2b059d0>"
            ]
          },
          "metadata": {},
          "execution_count": 47
        }
      ]
    },
    {
      "cell_type": "code",
      "metadata": {
        "id": "eJCjFgwpSyXM",
        "colab": {
          "base_uri": "https://localhost:8080/"
        },
        "outputId": "b8cd6779-089e-4f2d-8def-7fbe5a906075"
      },
      "source": [
        "model.evaluate(x_test,y_test)"
      ],
      "execution_count": null,
      "outputs": [
        {
          "output_type": "stream",
          "name": "stdout",
          "text": [
            "16/16 [==============================] - 1s 63ms/step - loss: 0.7567 - accuracy: 0.9882\n"
          ]
        },
        {
          "output_type": "execute_result",
          "data": {
            "text/plain": [
              "[0.7567103505134583, 0.9881889820098877]"
            ]
          },
          "metadata": {},
          "execution_count": 48
        }
      ]
    },
    {
      "cell_type": "code",
      "metadata": {
        "id": "t97BB5qAKc_v"
      },
      "source": [
        "sub_dict={'image_name':[],'label':[]}\n",
        "test_dir='/content/test/test/'\n",
        "for img_name in os.listdir(test_dir):\n",
        "\n",
        "  img=cv2.imread(os.path.join(test_dir,img_name))\n",
        "  #print(img.shape)\n",
        "  img=cv2.resize(img,(img_size,img_size))\n",
        "  img=cv2.cvtColor(img,cv2.COLOR_BGR2GRAY)\n",
        "  img=np.array(img).reshape(-1,img_size,img_size,1)\n",
        "  img=img/255.\n",
        "  prediction = model.predict(img)\n",
        "  sub_dict['image_name'].append(img_name)\n",
        "  if prediction>=0.5:\n",
        "      final_prediction=0\n",
        "  else :\n",
        "      final_prediction=1\n",
        "  \n",
        "  sub_dict['label'].append(final_prediction)\n",
        "import pandas as pd\n",
        "\n",
        "sub_df=pd.DataFrame(sub_dict)\n",
        "print(sub_df)\n"
      ],
      "execution_count": null,
      "outputs": []
    },
    {
      "cell_type": "code",
      "metadata": {
        "id": "ILbwCeiYN2JY"
      },
      "source": [
        "sub_df.to_csv('/content/sub.csv',index=None)"
      ],
      "execution_count": null,
      "outputs": []
    },
    {
      "cell_type": "code",
      "metadata": {
        "id": "22fQVQ1hLIFe"
      },
      "source": [
        "|files.download('example_file.csv')"
      ],
      "execution_count": null,
      "outputs": []
    }
  ]
}